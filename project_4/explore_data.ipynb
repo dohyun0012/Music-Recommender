{
 "cells": [
  {
   "cell_type": "code",
   "execution_count": 39,
   "metadata": {
    "collapsed": true
   },
   "outputs": [],
   "source": [
    "import pandas as pd\n",
    "from pymongo import MongoClient\n",
    "from sklearn.feature_extraction.text import CountVectorizer\n",
    "from sklearn.decomposition import TruncatedSVD, NMF\n",
    "from sklearn.preprocessing import Normalizer"
   ]
  },
  {
   "cell_type": "code",
   "execution_count": 2,
   "metadata": {
    "collapsed": true
   },
   "outputs": [],
   "source": [
    "client = MongoClient()"
   ]
  },
  {
   "cell_type": "code",
   "execution_count": 3,
   "metadata": {
    "collapsed": false
   },
   "outputs": [
    {
     "data": {
      "text/plain": [
       "['local', 'yelp']"
      ]
     },
     "execution_count": 3,
     "metadata": {},
     "output_type": "execute_result"
    }
   ],
   "source": [
    "client.database_names()"
   ]
  },
  {
   "cell_type": "code",
   "execution_count": 4,
   "metadata": {
    "collapsed": true
   },
   "outputs": [],
   "source": [
    "db = client.yelp"
   ]
  },
  {
   "cell_type": "code",
   "execution_count": 5,
   "metadata": {
    "collapsed": false
   },
   "outputs": [],
   "source": [
    "collection = db.reviews"
   ]
  },
  {
   "cell_type": "code",
   "execution_count": 6,
   "metadata": {
    "collapsed": false
   },
   "outputs": [],
   "source": [
    "funnies = collection.find({'votes.funny':{'$gt':10}})"
   ]
  },
  {
   "cell_type": "code",
   "execution_count": 7,
   "metadata": {
    "collapsed": false
   },
   "outputs": [
    {
     "data": {
      "text/plain": [
       "7303"
      ]
     },
     "execution_count": 7,
     "metadata": {},
     "output_type": "execute_result"
    }
   ],
   "source": [
    "funnies.count()"
   ]
  },
  {
   "cell_type": "code",
   "execution_count": 9,
   "metadata": {
    "collapsed": true
   },
   "outputs": [],
   "source": [
    "reviews = []"
   ]
  },
  {
   "cell_type": "code",
   "execution_count": 10,
   "metadata": {
    "collapsed": false
   },
   "outputs": [],
   "source": [
    "for i in funnies:\n",
    "    reviews.append(i['text'])"
   ]
  },
  {
   "cell_type": "code",
   "execution_count": 11,
   "metadata": {
    "collapsed": false
   },
   "outputs": [
    {
     "data": {
      "text/plain": [
       "'MEAN CUSTOMERS -ALOOF WORKERS+GOOD FOOD = CRAZY!\\n\\nOfficial Rant of an Angry Woman:\\n\\nFirst off - I shop at \"Whole Paycheck\" cause my household eats organic and whether I like it or not WF has the best organic food prices in my neck of the woods. IT\\'S STILL GOD DAMN RIDICULOUS EXPENSIVE but I take my family units nutrition and health seriously! WORD!!\\n\\nDownhill from here...\\n\\nTHE CUSTOMERS AND PARKING LOT ARE MORE BAT SHIT CRAZY THAN MENTAL HOSPITALS I\\'VE WORKED AT!\\n\\nI have watched more rich bitch elderly women NEARLY murder pedestrians and crash into cars trying to park their Lincoln Continentals in that parking lot than I\\'d ever care to witness!\\n\\nAlso - I am a mother with a young child and have been SHOVED by above mentioned rich bitches while reaching for products out of the freezer cases WITH MY CHILD IN MY ARMS! I briefly entertained SHANKING said bitch but alas prison orange is not in my color wheel!\\n\\nThe customers are the worst human beings on earth (::thinks about self, shakes head, laughs...except me of course::). YOU KNOW WHO YOU ARE SHADYSIDE HAGS! You treat the employees like dogs - like one level above dirt. If I worked there I would hang myself in the cheese section! The customers are the worst cross section of Pittsburghers ever!!! \\n\\nThat said- I understand why the employees are like stunned fish - keeping things close to the vest so that RICH BITCH SHADYSIDE MONSTERS don\\'t feast on their flesh in fits of rage!\\n\\nBUT I WOULD LIKE TO POINT OUT...one female cashier who shall remain nameless SHIT on me and treated me like a tree killing whore when I handed her one Internet print out coupon on a single sheet of computer paper - she ROLLED her eyes and PAINSTAKINGLY tore my coupon out of the paper and then folded the unused paper and placed it in her pocket! I am a tree hugger getting judged by a tree hugger! FUKISUMA you! I\\'m a mom trying to do right for my family - feed them healthy -GO TO HELL!\\n\\nIf you see a woman and child dressed like Rambo and Baby Rambo running through WF screaming and wielding gallons of milk - it\\'s me trying to survive another trip to WHOLE PAYCHECK HELL!'"
      ]
     },
     "execution_count": 11,
     "metadata": {},
     "output_type": "execute_result"
    }
   ],
   "source": [
    "reviews[1]"
   ]
  },
  {
   "cell_type": "code",
   "execution_count": 16,
   "metadata": {
    "collapsed": true
   },
   "outputs": [],
   "source": [
    "vectorizer = CountVectorizer(stop_words='english',min_df=1)"
   ]
  },
  {
   "cell_type": "code",
   "execution_count": 34,
   "metadata": {
    "collapsed": false
   },
   "outputs": [],
   "source": [
    "dtm = vectorizer.fit_transform(reviews)"
   ]
  },
  {
   "cell_type": "code",
   "execution_count": 36,
   "metadata": {
    "collapsed": false
   },
   "outputs": [
    {
     "data": {
      "text/plain": [
       "46268"
      ]
     },
     "execution_count": 36,
     "metadata": {},
     "output_type": "execute_result"
    }
   ],
   "source": [
    "len(vectorizer.get_feature_names())"
   ]
  },
  {
   "cell_type": "code",
   "execution_count": 42,
   "metadata": {
    "collapsed": false
   },
   "outputs": [],
   "source": [
    "lsa = TruncatedSVD(2, algorithm = 'randomized')\n",
    "dtm_lsa = lsa.fit_transform(dtm)\n",
    "dtm_lsa = Normalizer(copy=False).fit_transform(dtm_lsa)"
   ]
  },
  {
   "cell_type": "code",
   "execution_count": 43,
   "metadata": {
    "collapsed": false
   },
   "outputs": [
    {
     "data": {
      "text/plain": [
       "array([ 0.03104829,  0.02020311])"
      ]
     },
     "execution_count": 43,
     "metadata": {},
     "output_type": "execute_result"
    }
   ],
   "source": [
    "lsa.explained_variance_ratio_"
   ]
  }
 ],
 "metadata": {
  "anaconda-cloud": {},
  "kernelspec": {
   "display_name": "Python [Root]",
   "language": "python",
   "name": "Python [Root]"
  },
  "language_info": {
   "codemirror_mode": {
    "name": "ipython",
    "version": 3
   },
   "file_extension": ".py",
   "mimetype": "text/x-python",
   "name": "python",
   "nbconvert_exporter": "python",
   "pygments_lexer": "ipython3",
   "version": "3.5.2"
  }
 },
 "nbformat": 4,
 "nbformat_minor": 0
}
