{
 "cells": [
  {
   "cell_type": "markdown",
   "metadata": {},
   "source": [
    "# Imports"
   ]
  },
  {
   "cell_type": "code",
   "execution_count": 1,
   "metadata": {
    "collapsed": true
   },
   "outputs": [],
   "source": [
    "# Base\n",
    "import numpy as np\n",
    "import pandas as pd\n",
    "import re\n",
    "from pymongo import MongoClient"
   ]
  },
  {
   "cell_type": "code",
   "execution_count": 2,
   "metadata": {
    "collapsed": true
   },
   "outputs": [],
   "source": [
    "# NLP\n",
    "from sklearn.feature_extraction.text import CountVectorizer, TfidfTransformer, TfidfVectorizer\n",
    "from sklearn.decomposition import TruncatedSVD, NMF\n",
    "from sklearn.preprocessing import Normalizer\n",
    "from gensim.models import Word2Vec"
   ]
  },
  {
   "cell_type": "code",
   "execution_count": 3,
   "metadata": {
    "collapsed": true
   },
   "outputs": [],
   "source": [
    "# Modeling\n",
    "from sklearn.cross_validation import train_test_split\n",
    "from sklearn.pipeline import Pipeline, FeatureUnion\n",
    "from sklearn.base import TransformerMixin\n",
    "from sklearn.ensemble import RandomForestClassifier\n",
    "from sklearn.linear_model import LogisticRegression\n",
    "from sklearn.naive_bayes import GaussianNB\n",
    "from sklearn.metrics import roc_auc_score"
   ]
  },
  {
   "cell_type": "markdown",
   "metadata": {},
   "source": [
    "# Data"
   ]
  },
  {
   "cell_type": "code",
   "execution_count": 4,
   "metadata": {
    "collapsed": false
   },
   "outputs": [],
   "source": [
    "# Connect to MongoDB\n",
    "client = MongoClient()\n",
    "client.database_names()\n",
    "db = client.yelp\n",
    "collection = db.reviews"
   ]
  },
  {
   "cell_type": "code",
   "execution_count": 5,
   "metadata": {
    "collapsed": false
   },
   "outputs": [
    {
     "data": {
      "text/plain": [
       "7303"
      ]
     },
     "execution_count": 5,
     "metadata": {},
     "output_type": "execute_result"
    }
   ],
   "source": [
    "# Funny reviews\n",
    "funnies = collection.find({'votes.funny':{'$gt':10}})\n",
    "funnies.count()"
   ]
  },
  {
   "cell_type": "code",
   "execution_count": 6,
   "metadata": {
    "collapsed": false
   },
   "outputs": [
    {
     "data": {
      "text/plain": [
       "'Mr Hoagie is an institution. Walking in, it does seem like a throwback to 30 years ago, old fashioned menu board, booths out of the 70s, and a large selection of food. Their speciality is the Italian Hoagie, and it is voted the best in the area year after year. I usually order the burger, while the patties are obviously cooked from frozen, all of the other ingredients are very fresh. Overall, its a good alternative to Subway, which is down the road.'"
      ]
     },
     "execution_count": 6,
     "metadata": {},
     "output_type": "execute_result"
    }
   ],
   "source": [
    "# Non-funny reviews\n",
    "non_funnies = collection.find({'votes.funny':{'$lt':10}})\n",
    "non_funnies.next()['text']"
   ]
  },
  {
   "cell_type": "code",
   "execution_count": 7,
   "metadata": {
    "collapsed": false
   },
   "outputs": [
    {
     "data": {
      "text/plain": [
       "\"Excellent food. Superb customer service. I miss the mario machines they used to have, but it's still a great place steeped in tradition.\""
      ]
     },
     "execution_count": 7,
     "metadata": {},
     "output_type": "execute_result"
    }
   ],
   "source": [
    "# Data to lists\n",
    "reviews = []\n",
    "idx = []\n",
    "for i in funnies:\n",
    "    reviews.append(i['text'])\n",
    "    idx.append(1)\n",
    "    reviews.append(non_funnies.next()['text'])\n",
    "    idx.append(0)\n",
    "reviews = pd.Series(reviews)\n",
    "reviews[1]"
   ]
  },
  {
   "cell_type": "code",
   "execution_count": 8,
   "metadata": {
    "collapsed": true
   },
   "outputs": [],
   "source": [
    "X_train, X_test, y_train, y_test = train_test_split(reviews,idx,test_size=.2,random_state=42)"
   ]
  },
  {
   "cell_type": "markdown",
   "metadata": {},
   "source": [
    "# NLP"
   ]
  },
  {
   "cell_type": "code",
   "execution_count": 9,
   "metadata": {
    "collapsed": true
   },
   "outputs": [],
   "source": [
    "# Additional features\n",
    "class LengthTransformer(TransformerMixin):\n",
    "    def transform(self, X, **transform_params):\n",
    "        lengths = pd.DataFrame(X.apply(lambda x: len(x.split())))\n",
    "        return lengths\n",
    "    def fit(self, X, y=None, **fit_params):\n",
    "        return self\n",
    "class CapTransformer(TransformerMixin):\n",
    "    def transform(self, X, **transform_params):\n",
    "        cap_lengths = pd.DataFrame(X.apply(lambda x: len([i for i in x.split() if i[0].isupper()])))\n",
    "        return cap_lengths\n",
    "    def fit(self, X, y=None, **fit_params):\n",
    "        return self\n",
    "class NumCount(TransformerMixin):\n",
    "    def transform(self, X, **transform_params): \n",
    "        return pd.DataFrame(X.apply(lambda x: len(re.findall(r'\\d', x))))\n",
    "    def fit(self, X, y=None, **fit_params):\n",
    "        return self\n",
    "# class Word2Vec(TransformerMixin):\n",
    "#     def transform(self, X, **transform_params): \n",
    "#         return \n",
    "# # texts = [[word for word in document.lower().split()] for document in X_train]\n",
    "# # w2v = Word2Vec(texts, size=100, window=5, min_count=1, workers=4, sg=0)\n",
    "# # for doc in texts:\n",
    "# #     for word in doc:\n",
    "# #         w2v[word]\n",
    "#     def fit(self, X, y=None, **fit_params):\n",
    "#         return self"
   ]
  },
  {
   "cell_type": "markdown",
   "metadata": {},
   "source": [
    "# Model"
   ]
  },
  {
   "cell_type": "code",
   "execution_count": 16,
   "metadata": {
    "collapsed": false
   },
   "outputs": [
    {
     "data": {
      "text/plain": [
       "0.90828199863107462"
      ]
     },
     "execution_count": 16,
     "metadata": {},
     "output_type": "execute_result"
    }
   ],
   "source": [
    "log_pipe = Pipeline([\n",
    "    ('features', FeatureUnion([\n",
    "        ('count_vect', CountVectorizer(stop_words='english', min_df=1)),\n",
    "        ('tfidf_vect', TfidfVectorizer()),\n",
    "        ('email_length', LengthTransformer()),\n",
    "        ('capital_letters', CapTransformer()),\n",
    "        ('numcount', NumCount())])),\n",
    "#     ('lsa', TruncatedSVD(100, algorithm = 'randomized')),\n",
    "#     ('normalizer', Normalizer(copy=False)),\n",
    "    ('model', LogisticRegression())])\n",
    "log_pipe.fit(X_train,y_train)\n",
    "log_pipe.score(X_test,y_test)"
   ]
  },
  {
   "cell_type": "code",
   "execution_count": 22,
   "metadata": {
    "collapsed": false
   },
   "outputs": [
    {
     "data": {
      "text/plain": [
       "0.81108829568788499"
      ]
     },
     "execution_count": 22,
     "metadata": {},
     "output_type": "execute_result"
    }
   ],
   "source": [
    "rfr_pipe = Pipeline([\n",
    "    ('features', FeatureUnion([\n",
    "        ('count_vect', CountVectorizer(stop_words='english', min_df=1)),\n",
    "        ('tfidf_vect', TfidfVectorizer()),\n",
    "        ('email_length', LengthTransformer()),\n",
    "        ('capital_letters', CapTransformer()),\n",
    "        ('numcount', NumCount())])),\n",
    "#     ('lsa', TruncatedSVD(100, algorithm = 'randomized')),\n",
    "#     ('normalizer', Normalizer(copy=False)),\n",
    "    ('model', RandomForestClassifier())])\n",
    "rfr_pipe.fit(X_train,y_train)\n",
    "rfr_pipe.score(X_test,y_test)"
   ]
  }
 ],
 "metadata": {
  "anaconda-cloud": {},
  "kernelspec": {
   "display_name": "Python [Root]",
   "language": "python",
   "name": "Python [Root]"
  },
  "language_info": {
   "codemirror_mode": {
    "name": "ipython",
    "version": 3
   },
   "file_extension": ".py",
   "mimetype": "text/x-python",
   "name": "python",
   "nbconvert_exporter": "python",
   "pygments_lexer": "ipython3",
   "version": "3.5.2"
  }
 },
 "nbformat": 4,
 "nbformat_minor": 0
}
