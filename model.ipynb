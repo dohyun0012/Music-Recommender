{
 "cells": [
  {
   "cell_type": "code",
   "execution_count": 9,
   "metadata": {
    "collapsed": false
   },
   "outputs": [],
   "source": [
    "import h5py\n",
    "from sklearn.cross_validation import train_test_split\n",
    "from keras.models import Sequential, load_model\n",
    "from keras.layers import Dense, Dropout, Activation, Convolution2D, MaxPooling2D, Flatten\n",
    "from keras.optimizers import SGD"
   ]
  },
  {
   "cell_type": "code",
   "execution_count": 2,
   "metadata": {
    "collapsed": true
   },
   "outputs": [],
   "source": [
    "# Load data\n",
    "with h5py.File(\"data/data.hdf5\", \"r\") as f:\n",
    "    X = f[\"X\"][:]\n",
    "    X.shape = (377414, 1, 200, 12)   # Reshaped to fit model\n",
    "    artist = f[\"artist\"][:]\n",
    "    song = f[\"song\"][:]\n",
    "    Y = f[\"Y\"][:]"
   ]
  },
  {
   "cell_type": "code",
   "execution_count": 3,
   "metadata": {
    "collapsed": false
   },
   "outputs": [],
   "source": [
    "# Train test split\n",
    "X_train, X_test, y_train, y_test = train_test_split(X,Y)"
   ]
  },
  {
   "cell_type": "code",
   "execution_count": 4,
   "metadata": {
    "collapsed": false
   },
   "outputs": [
    {
     "name": "stdout",
     "output_type": "stream",
     "text": [
      "Train on 283060 samples, validate on 94354 samples\n",
      "Epoch 1/2\n",
      "283060/283060 [==============================] - 1199s - loss: 0.0011 - val_loss: 1.5726e-04\n",
      "Epoch 2/2\n",
      "283060/283060 [==============================] - 1195s - loss: 1.5516e-04 - val_loss: 1.3124e-04\n"
     ]
    }
   ],
   "source": [
    "# Neural network\n",
    "model = Sequential()\n",
    "model.add(Convolution2D(20, 3, 1, init='uniform', border_mode='valid', input_shape=(1, 200, 12)))\n",
    "model.add(Activation('tanh'))\n",
    "model.add(MaxPooling2D(pool_size=(2,1),border_mode='valid'))\n",
    "model.add(Convolution2D(20, 3, 1, init='uniform', border_mode='valid'))\n",
    "model.add(Activation('tanh'))\n",
    "model.add(MaxPooling2D(pool_size=(2,1),border_mode='valid'))\n",
    "\n",
    "model.add(Flatten())\n",
    "model.add(Dense(1000, init='uniform'))\n",
    "model.add(Activation('tanh'))\n",
    "# model.add(Dropout(0.5))\n",
    "model.add(Dense(1000, init='uniform'))\n",
    "model.add(Activation('tanh'))\n",
    "# model.add(Dropout(0.5))\n",
    "model.add(Dense(10, init='uniform'))\n",
    "model.add(Activation('tanh'))\n",
    "\n",
    "sgd = SGD(lr=0.1, decay=1e-6, momentum=0.9, nesterov=True)\n",
    "model.compile(loss=\"mean_squared_error\",\n",
    "              optimizer=sgd)\n",
    "\n",
    "hist = model.fit(X_train, y_train, nb_epoch=2, batch_size=30, validation_data=(X_test,y_test))"
   ]
  },
  {
   "cell_type": "code",
   "execution_count": 6,
   "metadata": {
    "collapsed": false
   },
   "outputs": [],
   "source": [
    "# Save model\n",
    "model.save(\"model.h5\")"
   ]
  },
  {
   "cell_type": "code",
   "execution_count": 7,
   "metadata": {
    "collapsed": true
   },
   "outputs": [],
   "source": [
    "# Load model\n",
    "del model\n",
    "model = load_model('model.h5')"
   ]
  },
  {
   "cell_type": "code",
   "execution_count": 13,
   "metadata": {
    "collapsed": false
   },
   "outputs": [
    {
     "data": {
      "text/plain": [
       "array([[ -2.09658942e-03,  -5.18888654e-03,  -6.89221197e-04,\n",
       "         -2.41895061e-04,   2.99720210e-03,   2.02476326e-03,\n",
       "          4.73593734e-03,  -6.40691305e-03,  -1.09251449e-03,\n",
       "          1.09982828e-03],\n",
       "       [ -2.98991171e-03,  -9.90920162e-05,  -3.45434924e-03,\n",
       "          3.88612063e-03,   4.43011941e-03,   5.08217420e-03,\n",
       "         -3.28706391e-03,   2.92978319e-03,  -1.98385445e-03,\n",
       "          3.78746423e-03],\n",
       "       [  2.33648135e-03,   4.53853514e-04,   1.60155934e-03,\n",
       "          7.22355582e-03,  -1.31497975e-03,  -1.38273940e-03,\n",
       "          3.62270721e-03,   4.86129103e-03,   4.57095943e-04,\n",
       "          2.45059584e-03],\n",
       "       [ -1.03534505e-04,  -6.59966492e-04,  -1.35125557e-03,\n",
       "          2.11345195e-03,   7.69098056e-04,   2.98950588e-03,\n",
       "          8.58568994e-04,  -8.20380519e-04,  -2.33601127e-03,\n",
       "          1.67452183e-03]], dtype=float32)"
      ]
     },
     "execution_count": 13,
     "metadata": {},
     "output_type": "execute_result"
    }
   ],
   "source": [
    "model.predict(X_test[0:4])"
   ]
  }
 ],
 "metadata": {
  "anaconda-cloud": {},
  "kernelspec": {
   "display_name": "Python [tensorflow]",
   "language": "python",
   "name": "Python [tensorflow]"
  },
  "language_info": {
   "codemirror_mode": {
    "name": "ipython",
    "version": 3
   },
   "file_extension": ".py",
   "mimetype": "text/x-python",
   "name": "python",
   "nbconvert_exporter": "python",
   "pygments_lexer": "ipython3",
   "version": "3.5.2"
  }
 },
 "nbformat": 4,
 "nbformat_minor": 0
}
