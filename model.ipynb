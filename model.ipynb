{
 "cells": [
  {
   "cell_type": "code",
   "execution_count": null,
   "metadata": {
    "collapsed": false
   },
   "outputs": [],
   "source": [
    "import h5py\n",
    "from sklearn.cross_validation import train_test_split\n",
    "from keras.models import Sequential, load_model\n",
    "from keras.layers import Dense, Dropout, Activation, Convolution2D, MaxPooling2D, Flatten\n",
    "from keras.optimizers import SGD"
   ]
  },
  {
   "cell_type": "code",
   "execution_count": null,
   "metadata": {
    "collapsed": false
   },
   "outputs": [],
   "source": [
    "# Load data\n",
    "with h5py.File(\"data/split_data.hdf5\", \"r\") as f:\n",
    "    X_train = f[\"X_train\"][:]\n",
    "    X_test = f[\"X_test\"][:]\n",
    "    artist_train = f[\"artist_train\"][:]\n",
    "    artist_test = f[\"artist_test\"][:]\n",
    "    song_train = f[\"song_train\"][:]\n",
    "    song_test = f[\"song_test\"][:]\n",
    "    y_train = f[\"Y_train\"][:]\n",
    "    y_test = f[\"Y_test\"][:]\n",
    "\n",
    "X_train.shape = (264189, 1, 200, 12)   # Reshaped to fit model\n",
    "X_test.shape = (113225, 1, 200, 12)"
   ]
  },
  {
   "cell_type": "code",
   "execution_count": null,
   "metadata": {
    "collapsed": false
   },
   "outputs": [],
   "source": [
    "# Convnet\n",
    "model = Sequential()\n",
    "model.add(Convolution2D(20, 10, 1, init='uniform', border_mode='valid', input_shape=(1, 200, 12)))\n",
    "model.add(Activation('relu'))\n",
    "model.add(MaxPooling2D(pool_size=(2,1),border_mode='valid'))\n",
    "model.add(Convolution2D(20, 10, 1, init='uniform', border_mode='valid'))\n",
    "model.add(Activation('relu'))\n",
    "model.add(MaxPooling2D(pool_size=(2,1),border_mode='valid'))\n",
    "\n",
    "model.add(Flatten())\n",
    "model.add(Dense(200, init='uniform'))\n",
    "model.add(Activation('relu'))\n",
    "# model.add(Dropout(0.5))\n",
    "model.add(Dense(200, init='uniform'))\n",
    "model.add(Activation('relu'))\n",
    "# model.add(Dropout(0.5))\n",
    "model.add(Dense(10, init='uniform'))\n",
    "model.add(Activation('tanh'))\n",
    "\n",
    "sgd = SGD(lr=0.1, decay=1e-6, momentum=0.9, nesterov=True)\n",
    "model.compile(loss=\"mean_squared_error\",\n",
    "              optimizer=sgd)\n",
    "\n",
    "hist = model.fit(X_train, y_train, nb_epoch=1, batch_size=100, validation_data=(X_test,y_test))"
   ]
  },
  {
   "cell_type": "code",
   "execution_count": null,
   "metadata": {
    "collapsed": false
   },
   "outputs": [],
   "source": [
    "# Save model\n",
    "model.save(\"model.h5\")"
   ]
  },
  {
   "cell_type": "code",
   "execution_count": null,
   "metadata": {
    "collapsed": false
   },
   "outputs": [],
   "source": [
    "# Load model\n",
    "model = load_model('model.h5')"
   ]
  },
  {
   "cell_type": "code",
   "execution_count": null,
   "metadata": {
    "collapsed": false
   },
   "outputs": [],
   "source": [
    "model.predict(X_test[1000:1050])"
   ]
  }
 ],
 "metadata": {
  "anaconda-cloud": {},
  "kernelspec": {
   "display_name": "Python [tensorflow]",
   "language": "python",
   "name": "Python [tensorflow]"
  },
  "language_info": {
   "codemirror_mode": {
    "name": "ipython",
    "version": 3
   },
   "file_extension": ".py",
   "mimetype": "text/x-python",
   "name": "python",
   "nbconvert_exporter": "python",
   "pygments_lexer": "ipython3",
   "version": "3.5.2"
  }
 },
 "nbformat": 4,
 "nbformat_minor": 0
}
