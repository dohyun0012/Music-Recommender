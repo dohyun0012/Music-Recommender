{
 "cells": [
  {
   "cell_type": "code",
   "execution_count": 73,
   "metadata": {
    "collapsed": false
   },
   "outputs": [],
   "source": [
    "import numpy as np\n",
    "import h5py\n",
    "from keras.models import load_model\n",
    "from sklearn.manifold import TSNE"
   ]
  },
  {
   "cell_type": "code",
   "execution_count": 74,
   "metadata": {
    "collapsed": true
   },
   "outputs": [],
   "source": [
    "# Load data\n",
    "with h5py.File(\"data/split_data.hdf5\", \"r\") as f:\n",
    "    X_train = f[\"X_train\"][:]\n",
    "    X_test = f[\"X_test\"][:]\n",
    "    artist_train = f[\"artist_train\"][:]\n",
    "    artist_test = f[\"artist_test\"][:]\n",
    "    song_train = f[\"song_train\"][:]\n",
    "    song_test = f[\"song_test\"][:]\n",
    "    y_train = f[\"Y_train\"][:]\n",
    "    y_test = f[\"Y_test\"][:]\n",
    "\n",
    "X_train.shape = (264189, 1, 200, 12)   # Reshaped to fit model\n",
    "X_test.shape = (113225, 1, 200, 12)"
   ]
  },
  {
   "cell_type": "code",
   "execution_count": 45,
   "metadata": {
    "collapsed": false
   },
   "outputs": [],
   "source": [
    "# Get subset of test data\n",
    "X_test_sample = X_test[:30000]\n",
    "artist_test_sample = artist_test[:30000]\n",
    "song_test_sample = song_test[:30000]\n",
    "y_test_sample = y_test[:30000]\n",
    "\n",
    "X_test_sample.shape = (30000,1,200,12)   # Reshape to fit in model"
   ]
  },
  {
   "cell_type": "code",
   "execution_count": 75,
   "metadata": {
    "collapsed": true
   },
   "outputs": [],
   "source": [
    "# Load model\n",
    "model = load_model('model.h5')"
   ]
  },
  {
   "cell_type": "code",
   "execution_count": 76,
   "metadata": {
    "collapsed": false
   },
   "outputs": [
    {
     "data": {
      "text/plain": [
       "(264189, 10)"
      ]
     },
     "execution_count": 76,
     "metadata": {},
     "output_type": "execute_result"
    }
   ],
   "source": [
    "# Get predictions\n",
    "predictions = model.predict(X_train)\n",
    "predictions.shape"
   ]
  },
  {
   "cell_type": "code",
   "execution_count": 78,
   "metadata": {
    "collapsed": false
   },
   "outputs": [],
   "source": [
    "# Store predictions\n",
    "with h5py.File(\"data/predictions.hdf5\", \"w\") as f:\n",
    "#     f.create_dataset(\"X_test\", data=X_test_sample)\n",
    "    f.create_dataset(\"artist_test\", data=artist_train)\n",
    "    f.create_dataset(\"song_test\", data=song_train)\n",
    "    f.create_dataset(\"y_test\", data=y_test_sample)\n",
    "    f.create_dataset(\"predictions\", data=predictions)"
   ]
  }
 ],
 "metadata": {
  "anaconda-cloud": {},
  "kernelspec": {
   "display_name": "Python [tensorflow]",
   "language": "python",
   "name": "Python [tensorflow]"
  },
  "language_info": {
   "codemirror_mode": {
    "name": "ipython",
    "version": 3
   },
   "file_extension": ".py",
   "mimetype": "text/x-python",
   "name": "python",
   "nbconvert_exporter": "python",
   "pygments_lexer": "ipython3",
   "version": "3.5.2"
  }
 },
 "nbformat": 4,
 "nbformat_minor": 0
}
