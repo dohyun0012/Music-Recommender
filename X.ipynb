{
 "cells": [
  {
   "cell_type": "code",
   "execution_count": null,
   "metadata": {
    "collapsed": false
   },
   "outputs": [],
   "source": [
    "import hdf5_getters\n",
    "import h5py\n",
    "import glob\n",
    "import pandas as pd"
   ]
  },
  {
   "cell_type": "code",
   "execution_count": null,
   "metadata": {
    "collapsed": true
   },
   "outputs": [],
   "source": [
    "# Import Y-order song list\n",
    "f = h5py.File(\"data/Y.hdf5\", \"r\")\n",
    "songs = [n[0].decode('utf-8') for n in f['songs']]\n",
    "f.close()"
   ]
  },
  {
   "cell_type": "code",
   "execution_count": null,
   "metadata": {
    "collapsed": false
   },
   "outputs": [],
   "source": [
    "# Get filenames\n",
    "X_files = glob.glob(\"/mnt/data/X/*/*/*.h5\")\n",
    "Y_files = glob.glob(\"/mnt/data/Y/*/*/*.h5\")\n",
    "Z_files = glob.glob(\"/mnt/data/Z/*/*/*.h5\")\n",
    "files = X_files+Y_files+Z_files"
   ]
  },
  {
   "cell_type": "code",
   "execution_count": null,
   "metadata": {
    "collapsed": false
   },
   "outputs": [],
   "source": [
    "# Get data\n",
    "mfcc = []\n",
    "artist = []\n",
    "title = []\n",
    "song_id = []\n",
    "\n",
    "count = 0\n",
    "for dset in files:\n",
    "    with hdf5_getters.open_h5_file_read(dset) as file:\n",
    "        track_id = hdf5_getters.get_song_id(file).decode(\"utf-8\")\n",
    "        if track_id in songs:\n",
    "            features = hdf5_getters.get_segments_timbre(file)\n",
    "            if features.shape[0] >= 200:\n",
    "                mfcc.append(features[:200])\n",
    "                artist.append(hdf5_getters.get_artist_name(file).decode(\"utf-8\"))\n",
    "                title.append(hdf5_getters.get_title(file).decode(\"utf-8\"))\n",
    "                song_id.append(track_id)\n",
    "                count += 1\n",
    "                if count % 1000 == 0:\n",
    "                    print(count)"
   ]
  },
  {
   "cell_type": "code",
   "execution_count": null,
   "metadata": {
    "collapsed": false
   },
   "outputs": [],
   "source": [
    "# Store X as hdf5\n",
    "f = h5py.File(\"data/X_XYZ.hdf5\", \"w\")\n",
    "f.create_dataset(\"mfcc\", data=mfcc)\n",
    "ascii_artist = [n.encode(\"ascii\", \"ignore\") for n in artist]\n",
    "f.create_dataset('artist', data=ascii_artist)\n",
    "ascii_title = [n.encode(\"ascii\", \"ignore\") for n in title]\n",
    "f.create_dataset('title', data=ascii_title)\n",
    "ascii_song_id = [n.encode(\"ascii\", \"ignore\") for n in song_id]\n",
    "f.create_dataset('song_id', data=ascii_song_id)\n",
    "f.close()"
   ]
  }
 ],
 "metadata": {
  "anaconda-cloud": {},
  "kernelspec": {
   "display_name": "Python [Root]",
   "language": "python",
   "name": "Python [Root]"
  },
  "language_info": {
   "codemirror_mode": {
    "name": "ipython",
    "version": 3
   },
   "file_extension": ".py",
   "mimetype": "text/x-python",
   "name": "python",
   "nbconvert_exporter": "python",
   "pygments_lexer": "ipython3",
   "version": "3.5.2"
  }
 },
 "nbformat": 4,
 "nbformat_minor": 0
}
